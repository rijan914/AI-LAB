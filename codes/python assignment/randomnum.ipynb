{
 "cells": [
  {
   "cell_type": "code",
   "execution_count": 1,
   "metadata": {},
   "outputs": [
    {
     "name": "stdout",
     "output_type": "stream",
     "text": [
      "Guess higher!\n",
      "Guess higher!\n",
      "Guess higher!\n",
      "Guess lower!\n",
      "Guess lower!\n",
      "Guess lower!\n",
      "Guess lower!\n",
      "Guess higher!\n",
      "Guess higher!\n",
      "Guess higher!\n",
      "Guess higher!\n",
      "Guess higher!\n",
      "You won!\n"
     ]
    }
   ],
   "source": [
    "import random\n",
    "number = random.randint(1,100)\n",
    "guess = 0\n",
    "while guess != number:\n",
    "  guess = int(input(\"Enter Guess: \"))\n",
    "\n",
    "  if (guess < number):\n",
    "    print(\"Guess higher!\")\n",
    "  elif (guess > number):\n",
    "    print(\"Guess lower!\")\n",
    "  else:\n",
    "    print(\"You won!\")"
   ]
  }
 ],
 "metadata": {
  "kernelspec": {
   "display_name": "environment",
   "language": "python",
   "name": "python3"
  },
  "language_info": {
   "codemirror_mode": {
    "name": "ipython",
    "version": 3
   },
   "file_extension": ".py",
   "mimetype": "text/x-python",
   "name": "python",
   "nbconvert_exporter": "python",
   "pygments_lexer": "ipython3",
   "version": "3.10.1"
  }
 },
 "nbformat": 4,
 "nbformat_minor": 2
}
