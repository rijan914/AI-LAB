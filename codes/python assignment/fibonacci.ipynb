{
 "cells": [
  {
   "cell_type": "code",
   "execution_count": 2,
   "metadata": {},
   "outputs": [
    {
     "name": "stdout",
     "output_type": "stream",
     "text": [
      "The fibo series can be as 3 3\n",
      "6\n",
      "9\n",
      "15\n",
      "24\n",
      "39\n",
      "63\n",
      "102\n",
      "165\n",
      "267\n",
      "432\n"
     ]
    }
   ],
   "source": [
    "x=int(input(\"Enter the digit\"))\n",
    "y=x\n",
    "print(f\"The fibo series can be as {x} {y}\")\n",
    "z=int(0)\n",
    "i=0\n",
    "for i in range(10):\n",
    "    z=x+y\n",
    "    print(z)\n",
    "    x=y\n",
    "    y=z"
   ]
  },
  {
   "cell_type": "code",
   "execution_count": null,
   "metadata": {},
   "outputs": [],
   "source": []
  }
 ],
 "metadata": {
  "kernelspec": {
   "display_name": "environment",
   "language": "python",
   "name": "python3"
  },
  "language_info": {
   "codemirror_mode": {
    "name": "ipython",
    "version": 3
   },
   "file_extension": ".py",
   "mimetype": "text/x-python",
   "name": "python",
   "nbconvert_exporter": "python",
   "pygments_lexer": "ipython3",
   "version": "3.10.1"
  }
 },
 "nbformat": 4,
 "nbformat_minor": 2
}
