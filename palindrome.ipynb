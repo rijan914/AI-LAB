{
 "cells": [
  {
   "cell_type": "code",
   "execution_count": 15,
   "metadata": {},
   "outputs": [
    {
     "name": "stdout",
     "output_type": "stream",
     "text": [
      "12121 is \n",
      "a Palindrome \n"
     ]
    }
   ],
   "source": [
    "\n",
    "x=int(input(\"enter a number\")) \n",
    "print(x,\"is \")\n",
    "a=x \n",
    "y=0 \n",
    "i=0 \n",
    "for i in range(len(str(x))): \n",
    "    y=int(y*10 + x%10) \n",
    "    x=int(x/10) \n",
    "if a==y:\n",
    "        print(\"a Palindrome \") \n",
    "else: print(\"Not a Palindrome\")"
   ]
  },
  {
   "cell_type": "code",
   "execution_count": null,
   "metadata": {},
   "outputs": [],
   "source": []
  }
 ],
 "metadata": {
  "kernelspec": {
   "display_name": "environment",
   "language": "python",
   "name": "python3"
  },
  "language_info": {
   "codemirror_mode": {
    "name": "ipython",
    "version": 3
   },
   "file_extension": ".py",
   "mimetype": "text/x-python",
   "name": "python",
   "nbconvert_exporter": "python",
   "pygments_lexer": "ipython3",
   "version": "3.10.1"
  }
 },
 "nbformat": 4,
 "nbformat_minor": 2
}
